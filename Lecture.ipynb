{
 "cells": [
  {
   "cell_type": "markdown",
   "metadata": {},
   "source": [
    "# Video Captures"
   ]
  },
  {
   "cell_type": "code",
   "execution_count": 8,
   "metadata": {},
   "outputs": [],
   "source": [
    "import cv2\n",
    "import numpy as np"
   ]
  },
  {
   "cell_type": "markdown",
   "metadata": {},
   "source": [
    "0. CV_CAP_PROP_POS_MSEC Current position of the video file in milliseconds.\n",
    "1. CV_CAP_PROP_POS_FRAMES 0-based index of the frame to be decoded/captured next.\n",
    "2. CV_CAP_PROP_POS_AVI_RATIO Relative position of the video file\n",
    "3. CV_CAP_PROP_FRAME_WIDTH Width of the frames in the video stream.\n",
    "4. CV_CAP_PROP_FRAME_HEIGHT Height of the frames in the video stream.\n",
    "5. CV_CAP_PROP_FPS Frame rate.\n",
    "6. CV_CAP_PROP_FOURCC 4-character code of codec.\n",
    "7. CV_CAP_PROP_FRAME_COUNT Number of frames in the video file.\n",
    "8. CV_CAP_PROP_FORMAT Format of the Mat objects returned by retrieve() .\n",
    "9. CV_CAP_PROP_MODE Backend-specific value indicating the current capture mode.\n",
    "10. CV_CAP_PROP_BRIGHTNESS Brightness of the image (only for cameras).\n",
    "11. CV_CAP_PROP_CONTRAST Contrast of the image (only for cameras).\n",
    "12. CV_CAP_PROP_SATURATION Saturation of the image (only for cameras).\n",
    "13. CV_CAP_PROP_HUE Hue of the image (only for cameras).\n",
    "14. CV_CAP_PROP_GAIN Gain of the image (only for cameras).\n",
    "15. CV_CAP_PROP_EXPOSURE Exposure (only for cameras).\n",
    "16. CV_CAP_PROP_CONVERT_RGB Boolean flags indicating whether images should be converted to RGB.\n",
    "17. CV_CAP_PROP_WHITE_BALANCE Currently unsupported\n",
    "18. CV_CAP_PROP_RECTIFICATION Rectification flag for stereo cameras (note: only supported by DC1394 v 2.x backend currently)\n",
    "\n",
    "Source : https://stackoverflow.com/questions/11420748/setting-camera-parameters-in-opencv-python"
   ]
  },
  {
   "cell_type": "code",
   "execution_count": 17,
   "metadata": {},
   "outputs": [],
   "source": [
    "cap = cv2.VideoCapture(0)\n",
    "cap.set(3,640) # width\n",
    "cap.set(4,480) # height\n",
    "\n",
    "while True:\n",
    "    sucess,img = cap.read()\n",
    "    cv2.imshow(\"Image\",img) \n",
    "    imgPre = preProcessing(img)\n",
    "    cv2.imshow(\"ImagePre\",imgPre) \n",
    "\n",
    "    key = cv2.waitKey(1) \n",
    "    if key == ord('q'):\n",
    "        break\n",
    "\n",
    "cap.release()\n",
    "cv2.destroyAllWindows()"
   ]
  },
  {
   "cell_type": "markdown",
   "metadata": {},
   "source": [
    "# Canny Edge Detection"
   ]
  },
  {
   "cell_type": "markdown",
   "metadata": {},
   "source": [
    "https://d37oebn0w9ir6a.cloudfront.net/account_16771/1_81483def799e1d74239753e30b922307.gif\n",
    "\n",
    "https://i.stack.imgur.com/YvvRA.gif\n",
    "\n",
    "https://learnopencv.com/wp-content/uploads/2021/10/pg3-edge-detection.gif\n"
   ]
  },
  {
   "cell_type": "code",
   "execution_count": 16,
   "metadata": {},
   "outputs": [],
   "source": [
    "def empty(a):\n",
    "    pass\n",
    "\n",
    "\n",
    "cv2.namedWindow(\"Threshold Bar\")\n",
    "cv2.resizeWindow(\"Threshold Bar\",640,240)\n",
    "cv2.createTrackbar(\"Threshold1\",\"Threshold Bar\",50,255,empty)\n",
    "cv2.createTrackbar(\"Threshold2\",\"Threshold Bar\",10,255,empty)\n",
    "\n",
    "def preProcessing(img):\n",
    "    imgPre = cv2.cvtColor(img,cv2.COLOR_BGR2GRAY)\n",
    "    imgPre = cv2.GaussianBlur(imgPre,(5,5),3)\n",
    "\n",
    "    threshold1 = cv2.getTrackbarPos(\"Threshold1\",\"Threshold Bar\")\n",
    "    threshold2 = cv2.getTrackbarPos(\"Threshold2\",\"Threshold Bar\")\n",
    "    imgPre = cv2.Canny(img,94,61)\n",
    "    \n",
    "    # imgPre = cv2.Canny(img,threshold1,threshold2)\n",
    "\n",
    "    kernel = np.ones((3,3),np.uint8)\n",
    "    imgPre = cv2.dilate(imgPre, kernel,iterations=1)\n",
    "    imgPre = cv2.morphologyEx(imgPre,cv2.MORPH_CLOSE, kernel)\n",
    "   \n",
    "    return imgPre"
   ]
  },
  {
   "cell_type": "markdown",
   "metadata": {},
   "source": [
    "# Contour Detection"
   ]
  },
  {
   "cell_type": "markdown",
   "metadata": {},
   "source": [
    "https://learnopencv.com/contour-detection-using-opencv-python-c/#Drawing-Contours-using-CHAIN_APPROX_NONE"
   ]
  }
 ],
 "metadata": {
  "kernelspec": {
   "display_name": "Python 3",
   "language": "python",
   "name": "python3"
  },
  "language_info": {
   "codemirror_mode": {
    "name": "ipython",
    "version": 3
   },
   "file_extension": ".py",
   "mimetype": "text/x-python",
   "name": "python",
   "nbconvert_exporter": "python",
   "pygments_lexer": "ipython3",
   "version": "3.10.8"
  }
 },
 "nbformat": 4,
 "nbformat_minor": 2
}
